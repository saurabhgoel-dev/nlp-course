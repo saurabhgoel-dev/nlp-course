{
 "cells": [
  {
   "cell_type": "code",
   "execution_count": 14,
   "metadata": {},
   "outputs": [
    {
     "data": {
      "text/plain": [
       "WindowsPath('c:/Users/saura/Desktop/MSc Data Science - Birbeck/Natural Language/nlp-course/Coursework')"
      ]
     },
     "execution_count": 14,
     "metadata": {},
     "output_type": "execute_result"
    }
   ],
   "source": [
    "from pathlib import Path\n",
    "import os\n",
    "import glob\n",
    "import pandas as pd\n",
    "import chardet \n",
    "\n",
    "Path.cwd()"
   ]
  },
  {
   "cell_type": "code",
   "execution_count": 3,
   "metadata": {},
   "outputs": [],
   "source": [
    "def detect_encoding(file_path): \n",
    "    with open(file_path, 'rb') as file: \n",
    "        detector = chardet.universaldetector.UniversalDetector() \n",
    "        for line in file: \n",
    "            detector.feed(line) \n",
    "            if detector.done: \n",
    "                break\n",
    "        detector.close() \n",
    "    return detector.result['encoding'] "
   ]
  },
  {
   "cell_type": "code",
   "execution_count": 16,
   "metadata": {},
   "outputs": [
    {
     "data": {
      "text/html": [
       "<div>\n",
       "<style scoped>\n",
       "    .dataframe tbody tr th:only-of-type {\n",
       "        vertical-align: middle;\n",
       "    }\n",
       "\n",
       "    .dataframe tbody tr th {\n",
       "        vertical-align: top;\n",
       "    }\n",
       "\n",
       "    .dataframe thead th {\n",
       "        text-align: right;\n",
       "    }\n",
       "</style>\n",
       "<table border=\"1\" class=\"dataframe\">\n",
       "  <thead>\n",
       "    <tr style=\"text-align: right;\">\n",
       "      <th></th>\n",
       "      <th>Text</th>\n",
       "      <th>Title</th>\n",
       "      <th>Author</th>\n",
       "      <th>Year</th>\n",
       "    </tr>\n",
       "  </thead>\n",
       "  <tbody>\n",
       "    <tr>\n",
       "      <th>0</th>\n",
       "      <td>\\nCHAPTER 1\\n\\nThe family of Dashwood had long...</td>\n",
       "      <td>Sense and Sensibility</td>\n",
       "      <td>Austen</td>\n",
       "      <td>1811</td>\n",
       "    </tr>\n",
       "    <tr>\n",
       "      <th>1</th>\n",
       "      <td>'Wooed and married and a'.'\\n'Edith!' said Mar...</td>\n",
       "      <td>North and South</td>\n",
       "      <td>Gaskell</td>\n",
       "      <td>1855</td>\n",
       "    </tr>\n",
       "  </tbody>\n",
       "</table>\n",
       "</div>"
      ],
      "text/plain": [
       "                                                Text                  Title  \\\n",
       "0  \\nCHAPTER 1\\n\\nThe family of Dashwood had long...  Sense and Sensibility   \n",
       "1  'Wooed and married and a'.'\\n'Edith!' said Mar...        North and South   \n",
       "\n",
       "    Author  Year  \n",
       "0   Austen  1811  \n",
       "1  Gaskell  1855  "
      ]
     },
     "execution_count": 16,
     "metadata": {},
     "output_type": "execute_result"
    }
   ],
   "source": [
    "all_data = []\n",
    "def read_novels(path=Path.cwd() / \"novels\"):\n",
    "  \n",
    "\n",
    "    # this for loop will run through folders and subfolders looking for a specific file type\n",
    "    for root, dirs, files in os.walk(path, topdown=False):\n",
    "    # look through all the files in the given directory\n",
    "        for name in files:\n",
    "            filename = os.path.join(root, name)\n",
    "            # print(filename)\n",
    "            name_split = name.replace('_', ' ').replace('.txt','').split('-')\n",
    "            # print(name_split)\n",
    "            encoding = detect_encoding(filename)\n",
    "            with open(filename, 'r', encoding=encoding) as afile:\n",
    "                # print(filename)\n",
    "                text = afile.read() # read the file and then add it to the list\n",
    "                afile.close() # close the file when you're done\n",
    "            # print(text)\n",
    "            data = [text, name_split[0], name_split[1], name_split[2]]\n",
    "            all_data.append(data)\n",
    "    df = pd.DataFrame(all_data, columns=['Text', 'Title', 'Author', 'Year']).sort_values(by=['Year'], ignore_index=True)\n",
    "    return df\n",
    "\n",
    "final_data = read_novels()\n",
    "final_data.head(2)\n"
   ]
  }
 ],
 "metadata": {
  "kernelspec": {
   "display_name": "Python 3",
   "language": "python",
   "name": "python3"
  },
  "language_info": {
   "codemirror_mode": {
    "name": "ipython",
    "version": 3
   },
   "file_extension": ".py",
   "mimetype": "text/x-python",
   "name": "python",
   "nbconvert_exporter": "python",
   "pygments_lexer": "ipython3",
   "version": "3.10.11"
  }
 },
 "nbformat": 4,
 "nbformat_minor": 2
}
