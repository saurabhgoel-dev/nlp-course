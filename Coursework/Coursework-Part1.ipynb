{
 "cells": [
  {
   "cell_type": "code",
   "execution_count": 1,
   "metadata": {},
   "outputs": [
    {
     "data": {
      "text/plain": [
       "WindowsPath('c:/Users/saura/Desktop/MSc Data Science - Birbeck/Natural Language/nlp-course/Coursework')"
      ]
     },
     "execution_count": 1,
     "metadata": {},
     "output_type": "execute_result"
    }
   ],
   "source": [
    "from pathlib import Path\n",
    "import os\n",
    "import glob\n",
    "import pandas as pd\n",
    "import chardet \n",
    "import nltk\n",
    "\n",
    "Path.cwd()"
   ]
  },
  {
   "cell_type": "code",
   "execution_count": 2,
   "metadata": {},
   "outputs": [],
   "source": [
    "def detect_encoding(file_path): \n",
    "    with open(file_path, 'rb') as file: \n",
    "        detector = chardet.universaldetector.UniversalDetector() \n",
    "        for line in file: \n",
    "            detector.feed(line) \n",
    "            if detector.done: \n",
    "                break\n",
    "        detector.close() \n",
    "    return detector.result['encoding'] "
   ]
  },
  {
   "cell_type": "code",
   "execution_count": 3,
   "metadata": {},
   "outputs": [
    {
     "data": {
      "text/html": [
       "<div>\n",
       "<style scoped>\n",
       "    .dataframe tbody tr th:only-of-type {\n",
       "        vertical-align: middle;\n",
       "    }\n",
       "\n",
       "    .dataframe tbody tr th {\n",
       "        vertical-align: top;\n",
       "    }\n",
       "\n",
       "    .dataframe thead th {\n",
       "        text-align: right;\n",
       "    }\n",
       "</style>\n",
       "<table border=\"1\" class=\"dataframe\">\n",
       "  <thead>\n",
       "    <tr style=\"text-align: right;\">\n",
       "      <th></th>\n",
       "      <th>Text</th>\n",
       "      <th>Title</th>\n",
       "      <th>Author</th>\n",
       "      <th>Year</th>\n",
       "    </tr>\n",
       "  </thead>\n",
       "  <tbody>\n",
       "    <tr>\n",
       "      <th>0</th>\n",
       "      <td>\\nCHAPTER 1\\n\\nThe family of Dashwood had long...</td>\n",
       "      <td>Sense and Sensibility</td>\n",
       "      <td>Austen</td>\n",
       "      <td>1811</td>\n",
       "    </tr>\n",
       "    <tr>\n",
       "      <th>1</th>\n",
       "      <td>'Wooed and married and a'.'\\n'Edith!' said Mar...</td>\n",
       "      <td>North and South</td>\n",
       "      <td>Gaskell</td>\n",
       "      <td>1855</td>\n",
       "    </tr>\n",
       "  </tbody>\n",
       "</table>\n",
       "</div>"
      ],
      "text/plain": [
       "                                                Text                  Title  \\\n",
       "0  \\nCHAPTER 1\\n\\nThe family of Dashwood had long...  Sense and Sensibility   \n",
       "1  'Wooed and married and a'.'\\n'Edith!' said Mar...        North and South   \n",
       "\n",
       "    Author  Year  \n",
       "0   Austen  1811  \n",
       "1  Gaskell  1855  "
      ]
     },
     "execution_count": 3,
     "metadata": {},
     "output_type": "execute_result"
    }
   ],
   "source": [
    "all_data = []\n",
    "def read_novels(path=Path.cwd() / \"novels\"):\n",
    "  \n",
    "\n",
    "    # this for loop will run through folders and subfolders looking for a specific file type\n",
    "    for root, dirs, files in os.walk(path, topdown=False):\n",
    "    # look through all the files in the given directory\n",
    "        for name in files:\n",
    "            filename = os.path.join(root, name)\n",
    "            # print(filename)\n",
    "            name_split = name.replace('_', ' ').replace('.txt','').split('-')\n",
    "            # print(name_split)\n",
    "            encoding = detect_encoding(filename)\n",
    "            with open(filename, 'r', encoding=encoding) as afile:\n",
    "                # print(filename)\n",
    "                text = afile.read() # read the file and then add it to the list\n",
    "                afile.close() # close the file when you're done\n",
    "            # print(text)\n",
    "            data = [text, name_split[0], name_split[1], name_split[2]]\n",
    "            all_data.append(data)\n",
    "    df = pd.DataFrame(all_data, columns=['Text', 'Title', 'Author', 'Year']).sort_values(by=['Year'], ignore_index=True)\n",
    "    return df\n",
    "\n",
    "final_data = read_novels()\n",
    "final_data.head(2)\n"
   ]
  },
  {
   "cell_type": "code",
   "execution_count": 4,
   "metadata": {},
   "outputs": [],
   "source": [
    "def nltk_ttr(text):\n",
    "    \"\"\"Calculates the type-token ratio of a text. Text is tokenized using nltk.word_tokenize.\"\"\"\n",
    "    tokens = nltk.word_tokenize(text)\n",
    "    ttr = len(set(tokens)) / len(tokens)\n",
    "    return ttr"
   ]
  },
  {
   "cell_type": "code",
   "execution_count": 5,
   "metadata": {},
   "outputs": [
    {
     "name": "stdout",
     "output_type": "stream",
     "text": [
      "{'Sense and Sensibility': 0.05479197223911566, 'North and South': 0.05927416377464373, 'A Tale of Two Cities': 0.06894750430809321, 'Erewhon': 0.0921702586443997, 'The American': 0.06292363443734122, 'Dorian Gray': 0.07939073932166739, 'Tess of the DUrbervilles': 0.07594758665698967, 'The Golden Bowl': 0.04520059963527339, 'The Secret Garden': 0.05511515311456441, 'Portrait of the Artist': 0.10630446566317808, 'The Black Moth': 0.07216074209154572, 'Orlando': 0.11053699944639232, 'Blood Meridian': 0.08435861940240469}\n"
     ]
    }
   ],
   "source": [
    "def get_ttrs(df):\n",
    "    \"\"\"helper function to add ttr to a dataframe\"\"\"\n",
    "    results = {}\n",
    "    for i, row in df.iterrows():\n",
    "        results[row[\"Title\"]] = nltk_ttr(row[\"Text\"])\n",
    "    return results\n",
    "\n",
    "print(get_ttrs(final_data))"
   ]
  },
  {
   "cell_type": "code",
   "execution_count": 6,
   "metadata": {},
   "outputs": [
    {
     "name": "stdout",
     "output_type": "stream",
     "text": [
      "139765\n",
      "4833\n",
      "216688\n",
      "10622\n",
      "166547\n",
      "5622\n",
      "90897\n",
      "2327\n",
      "166122\n",
      "7033\n",
      "95263\n",
      "6510\n",
      "177741\n",
      "8109\n",
      "258824\n",
      "6953\n",
      "98521\n",
      "6028\n",
      "95932\n",
      "5368\n",
      "120093\n",
      "8891\n",
      "92123\n",
      "3421\n",
      "128582\n",
      "7705\n"
     ]
    }
   ],
   "source": [
    "for i, row in final_data.iterrows():\n",
    "    print(len(nltk.word_tokenize(row['Text'])))\n",
    "    print(len(nltk.sent_tokenize(row['Text'])))"
   ]
  },
  {
   "cell_type": "code",
   "execution_count": 13,
   "metadata": {},
   "outputs": [
    {
     "data": {
      "text/plain": [
       "2"
      ]
     },
     "execution_count": 13,
     "metadata": {},
     "output_type": "execute_result"
    }
   ],
   "source": [
    "from nltk.corpus import cmudict\n",
    "import syllapy\n",
    "\n",
    "d = cmudict.dict()    \n",
    "def syllable_count(word):\n",
    "    try:\n",
    "        return [len(list(y for y in x if y[-1].isdigit())) for x in d[word.lower()]][0]\n",
    "    except KeyError:\n",
    "        #if word not found in cmudict\n",
    "        return syllapy.count(word)\n",
    "\n",
    "syllable_count('arin')"
   ]
  },
  {
   "cell_type": "code",
   "execution_count": 8,
   "metadata": {},
   "outputs": [
    {
     "data": {
      "text/plain": [
       "'Error'"
      ]
     },
     "execution_count": 8,
     "metadata": {},
     "output_type": "execute_result"
    }
   ],
   "source": [
    "from nltk.corpus import cmudict\n",
    "import syllapy\n",
    "\n",
    "d = cmudict.dict() \n",
    "def nsyl(word, d):\n",
    "    try:\n",
    "        return [len(list(y for y in x if y[-1].isdigit())) for x in d[word.lower()]][0]\n",
    "    except KeyError:\n",
    "        #if word not found in cmudict\n",
    "        return 'Error'\n",
    "nsyl('Saurabh', d)"
   ]
  }
 ],
 "metadata": {
  "kernelspec": {
   "display_name": "Python 3",
   "language": "python",
   "name": "python3"
  },
  "language_info": {
   "codemirror_mode": {
    "name": "ipython",
    "version": 3
   },
   "file_extension": ".py",
   "mimetype": "text/x-python",
   "name": "python",
   "nbconvert_exporter": "python",
   "pygments_lexer": "ipython3",
   "version": "3.10.11"
  }
 },
 "nbformat": 4,
 "nbformat_minor": 2
}
